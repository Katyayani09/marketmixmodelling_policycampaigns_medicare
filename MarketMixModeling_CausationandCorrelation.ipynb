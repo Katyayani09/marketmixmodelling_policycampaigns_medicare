{
  "nbformat": 4,
  "nbformat_minor": 0,
  "metadata": {
    "colab": {
      "private_outputs": true,
      "provenance": []
    },
    "kernelspec": {
      "name": "python3",
      "display_name": "Python 3"
    },
    "language_info": {
      "name": "python"
    }
  },
  "cells": [
    {
      "cell_type": "markdown",
      "source": [
        "## Campaign_Investments_Vs_Provider_Networks"
      ],
      "metadata": {
        "id": "aW-JdgmpqcJt"
      }
    },
    {
      "cell_type": "markdown",
      "source": [
        "### Table of Content\n",
        "1. Introduction\n",
        "2. Data Preprocessing\n",
        "3. Feature Engineering\n",
        "4. Exploratory Data Analysis & Statistical Analysis\n",
        "5. Recommendations & Strategies"
      ],
      "metadata": {
        "id": "gvqtOL3Nqlu6"
      }
    },
    {
      "cell_type": "markdown",
      "source": [
        "### 1. Introduction"
      ],
      "metadata": {
        "id": "5B6v9DZnqomR"
      }
    },
    {
      "cell_type": "code",
      "source": [
        "%%capture\n",
        "!pip install pytimetk -q"
      ],
      "metadata": {
        "id": "k5Fyq7QMdQ_k"
      },
      "execution_count": null,
      "outputs": []
    },
    {
      "cell_type": "code",
      "source": [
        "import pandas as pd, numpy as np, seaborn as sns\n",
        "import scipy.stats\n",
        "import matplotlib.pyplot as plt\n",
        "from google.colab import drive\n",
        "drive.mount('/content/drive/')\n",
        "import pytimetk as tk\n",
        "import statsmodels.api as sm\n",
        "import statsmodels.formula.api as smf"
      ],
      "metadata": {
        "id": "LTzN56mKqma6"
      },
      "execution_count": null,
      "outputs": []
    },
    {
      "cell_type": "markdown",
      "source": [
        "### 2. Data Preprocessing"
      ],
      "metadata": {
        "id": "cKr_EuISqp-Q"
      }
    },
    {
      "cell_type": "code",
      "source": [
        "data=pd.read_csv(r'/content/drive/MyDrive/campaign_data.csv')\n",
        "data.columns"
      ],
      "metadata": {
        "id": "E9tM3gLiq3Q6"
      },
      "execution_count": null,
      "outputs": []
    },
    {
      "cell_type": "markdown",
      "source": [
        "### 3. Feature Engineering"
      ],
      "metadata": {
        "id": "z5Igy7psrmaE"
      }
    },
    {
      "cell_type": "code",
      "source": [
        "## Time Series Features\n",
        "data['Calendardate']=pd.to_datetime(data['Calendardate'])\n",
        "data['Calendardate']=data['Calendardate'].astype('datetime64[ns]')\n",
        "data['Calendar_Month']=data['Calendardate'].dt.month\n",
        "data['Calendar_Year']=data['Calendardate'].dt.year"
      ],
      "metadata": {
        "id": "rDsPun-erm_k"
      },
      "execution_count": null,
      "outputs": []
    },
    {
      "cell_type": "markdown",
      "source": [
        "### 4. Exploratory Data Analysis and Statistical Analysis\n",
        "We can have a detailed exploration that can be added to this section, but since we only need to answer three questions:"
      ],
      "metadata": {
        "id": "HxfkKZPPsIEc"
      }
    },
    {
      "cell_type": "markdown",
      "source": [
        "### 4.1 Exploratory Data Analysis & Statistical Analysis"
      ],
      "metadata": {
        "id": "3O6mXyLHcDtQ"
      }
    },
    {
      "cell_type": "markdown",
      "source": [
        "#### 4.1.1 Distribution of Features over Time\n"
      ],
      "metadata": {
        "id": "zc37CyljcmH2"
      }
    },
    {
      "cell_type": "code",
      "source": [
        "value_vars = ['Amount Collected', 'Unit Sold', 'Campaign (Email)',\n",
        "              'Campaign (Flyer)', 'Campaign (Phone)', 'Sales Contact 1',\n",
        "              'Sales Contact 2', 'Sales Contact 3']\n",
        "sns.set_style(\"darkgrid\", {\"grid.color\": \".5\", \"grid.linestyle\": \"--\"})\n",
        "\n",
        "num_vars = len(value_vars)\n",
        "num_cols = 2\n",
        "num_rows = (num_vars + num_cols - 1) // num_cols\n",
        "\n",
        "# Create the figure and subplots\n",
        "fig, axes = plt.subplots(num_rows, num_cols, figsize=(18, num_rows * 6))\n",
        "\n",
        "# Iterate through the variables and create subplots\n",
        "for i, var in enumerate(value_vars):\n",
        "    # Melt the data for the current variable\n",
        "    data_melted = data.melt(id_vars=[\"Calendardate\"],\n",
        "                            value_vars=[var],\n",
        "                            var_name='variable',\n",
        "                            value_name='value')\n",
        "    data_melted = data_melted.groupby(['Calendardate', 'variable']).agg(\n",
        "        {'value': 'sum'}).sort_values(\n",
        "            by='value', ascending=True).reset_index()\n",
        "    data_melted = data_melted.set_index('Calendardate')\n",
        "    data_melted = data_melted.resample('M').sum().fillna(0)\n",
        "    data_melted = data_melted.reset_index()\n",
        "\n",
        "    # Get the subplot axes\n",
        "    row = i // num_cols\n",
        "    col = i % num_cols\n",
        "    ax = axes[row, col] if num_rows > 1 else axes[col]\n",
        "\n",
        "    # Plot the time series on the subplot with smoothed lines\n",
        "    sns.lineplot(x='Calendardate',\n",
        "                 y='value',\n",
        "                 data=data_melted,\n",
        "                 ax=ax,\n",
        "                 color='blue',  # Customize color if needed\n",
        "                 linewidth=2,\n",
        "                 estimator='sum',  # For smoothing\n",
        "                 ci=None,\n",
        "                 label=var)  # Remove confidence interval if not needed\n",
        "\n",
        "    ax.set_title(var, fontsize=14)\n",
        "    ax.set_xlabel('Date', fontsize=12)\n",
        "    ax.set_ylabel('Value', fontsize=12)\n",
        "    ax.legend()\n",
        "\n",
        "# Adjust layout and display the plot\n",
        "plt.tight_layout()\n",
        "plt.show()"
      ],
      "metadata": {
        "id": "5oAobb1Qc2yB"
      },
      "execution_count": null,
      "outputs": []
    },
    {
      "cell_type": "markdown",
      "source": [
        "#### 4.1.2 Distribution of Amount Collected"
      ],
      "metadata": {
        "id": "gHir0Wm0BzvP"
      }
    },
    {
      "cell_type": "code",
      "source": [
        "# Set a more appealing color palette\n",
        "sns.set_palette(\"muted\")\n",
        "\n",
        "# Create the histogram with KDE\n",
        "plt.figure(figsize=(12, 6))\n",
        "sns.histplot(data['Amount Collected'], bins=30, kde=True, color='blue', line_kws={'color': 'orange'},linewidth=1.5)\n",
        "\n",
        "# Add mean and median lines for context\n",
        "mean_value = data['Amount Collected'].mean()\n",
        "median_value = data['Amount Collected'].median()\n",
        "\n",
        "plt.axvline(mean_value, color='red', linestyle='-.', label=f'Mean: {mean_value:.2f}')\n",
        "plt.axvline(median_value, color='green', linestyle='--', label=f'Median: {median_value:.2f}')\n",
        "\n",
        "# Labels and Title\n",
        "plt.xlabel(\"Amount Collected\", fontsize=12)\n",
        "plt.ylabel(\"Frequency\", fontsize=12)\n",
        "plt.title(\"Distribution of Amount Collected Across Accounts\", fontsize=14)\n",
        "\n",
        "# Add a legend to explain the lines\n",
        "plt.legend()\n",
        "plt.grid(True, linestyle='--', alpha=0.7)\n",
        "plt.tight_layout()\n",
        "plt.show()"
      ],
      "metadata": {
        "id": "fdNvfWpABfPg"
      },
      "execution_count": null,
      "outputs": []
    },
    {
      "cell_type": "markdown",
      "source": [
        "Observations: The distribution is right skewed"
      ],
      "metadata": {
        "id": "WKzk5qAZP_w2"
      }
    },
    {
      "cell_type": "markdown",
      "source": [
        "#### 4.1.3 Sales Across Account Type"
      ],
      "metadata": {
        "id": "UZ2mTPv3B69w"
      }
    },
    {
      "cell_type": "code",
      "source": [
        "# Mean Sales across Client Type\n",
        "sales_mean = data.groupby('Client Type')['Amount Collected'].mean().reset_index()\n",
        "\n",
        "plt.figure(figsize=(10, 5))\n",
        "sns.barplot(x='Client Type', y='Amount Collected', data=sales_mean, palette='viridis')\n",
        "plt.xlabel(\"Client Type\")\n",
        "plt.ylabel(\"Mean Amount Collected\")\n",
        "plt.title(\"Mean Sales Across Account Types\")\n",
        "plt.xticks(rotation=45)\n",
        "plt.show()\n",
        "print(sales_mean)\n",
        "\n",
        "# Total Sales across Client Type\n",
        "sales_sum = data.groupby('Client Type')['Amount Collected'].sum().reset_index()\n",
        "\n",
        "plt.figure(figsize=(10, 5))\n",
        "sns.barplot(x='Client Type', y='Amount Collected', data=sales_sum, palette='viridis')\n",
        "plt.xlabel(\"Client Type\")\n",
        "plt.ylabel(\"Total Amount Collected\")\n",
        "plt.title(\"Total Sales Across Account Types\")\n",
        "plt.xticks(rotation=45)\n",
        "plt.show()\n",
        "print(sales_sum)"
      ],
      "metadata": {
        "id": "NWoAJFPkB6PY"
      },
      "execution_count": null,
      "outputs": []
    },
    {
      "cell_type": "markdown",
      "source": [
        "Observation:  \n",
        "*   Large Facilities: While their average sale might be LOWER, they likely have a much LARGER VOLUME OF TRANSACTIONS. This higher volume compensates for the lower average, resulting in a higher total revenue (sum).\n",
        "*   Medium Facilities: They have the highest average sale, but the total number of transactions might be  compared to Large Facilities. This leads to a lower overall revenue (sum) despite the higher average."
      ],
      "metadata": {
        "id": "MWBKBoetOiko"
      }
    },
    {
      "cell_type": "markdown",
      "source": [
        "### 4.2 Statistical Analysis - Answering the Questions\n"
      ],
      "metadata": {
        "id": "BXmEmDZSBVaG"
      }
    },
    {
      "cell_type": "markdown",
      "source": [
        "#### 4.2.1 Impact of Marketing Strategy on Sales"
      ],
      "metadata": {
        "id": "cdnEAz4xsMEJ"
      }
    },
    {
      "cell_type": "code",
      "source": [
        "data['Client Type'].value_counts(normalize=True).reset_index()"
      ],
      "metadata": {
        "id": "pG0RNeasRMIn"
      },
      "execution_count": null,
      "outputs": []
    },
    {
      "cell_type": "markdown",
      "source": [
        "Observations: The Client share is highest for Large facilities followed by Small and Medium"
      ],
      "metadata": {
        "id": "IE2f2vZcRtpc"
      }
    },
    {
      "cell_type": "code",
      "source": [
        "pd.crosstab(data['Number of Competition'],data['Client Type'],margins=True,normalize='columns')"
      ],
      "metadata": {
        "id": "7g-sZ1mosQci"
      },
      "execution_count": null,
      "outputs": []
    },
    {
      "cell_type": "markdown",
      "source": [
        "Observations: We observe that majority of our market is from LOW"
      ],
      "metadata": {
        "id": "nVythjsZSEhj"
      }
    },
    {
      "cell_type": "code",
      "source": [
        "data[['Amount Collected','Unit Sold','Number of Competition']].groupby('Number of Competition').mean().reset_index()"
      ],
      "metadata": {
        "id": "csJAtDTGsXL9"
      },
      "execution_count": null,
      "outputs": []
    },
    {
      "cell_type": "markdown",
      "source": [
        "Observations: Even though majority of our market is from LOW, the AVG sales and Units Sold is 2X in HIGH competition"
      ],
      "metadata": {
        "id": "NcP14kj4Tdf2"
      }
    },
    {
      "cell_type": "code",
      "source": [
        "data[['Number of Customers','Amount Collected','Unit Sold','Client Type']].groupby('Client Type').mean().reset_index()"
      ],
      "metadata": {
        "id": "NJntHFfCTzsZ"
      },
      "execution_count": null,
      "outputs": []
    },
    {
      "cell_type": "markdown",
      "source": [
        "Observation:\n",
        "*    Even though \"Medium Facilities\" does not see much client share, we observe that \"Medium Facilities\" bring in More Customers, Sales and Units sold.\n",
        "*   If we see and apply similar marketing strategies to other client groups, then we might see better sales and popultaion"
      ],
      "metadata": {
        "id": "Urrh1aIKUFpI"
      }
    },
    {
      "cell_type": "markdown",
      "source": [
        "#### 4.2.2 Correlation Analysis"
      ],
      "metadata": {
        "id": "Rm3I1dgqtae8"
      }
    },
    {
      "cell_type": "markdown",
      "source": [
        "#### (i) Impact of Specific Marketing Strategies on Sales"
      ],
      "metadata": {
        "id": "uqVgEPsabvhl"
      }
    },
    {
      "cell_type": "code",
      "source": [
        "cm = sns.light_palette(\"green\", as_cmap=True)\n",
        "correlation_analysis=pd.DataFrame(data[['Amount Collected',\n",
        "'Campaign (Email)', 'Campaign (Flyer)', 'Campaign (Phone)',\n",
        "       'Sales Contact 1', 'Sales Contact 2', 'Sales Contact 3',\n",
        "       'Sales Contact 4', 'Sales Contact 5']].corr()['Amount Collected']).reset_index()\n",
        "correlation_analysis.columns=['Impacting Variable','Degree of Linear Impact (Correlation)']\n",
        "correlation_analysis = correlation_analysis[correlation_analysis['Impacting Variable'] != 'Amount Collected']\n",
        "correlation_analysis = correlation_analysis.sort_values('Degree of Linear Impact (Correlation)', ascending=False)\n",
        "# Apply background gradient and set decimal format correctly\n",
        "correlation_analysis.style.background_gradient(cmap=cm).format(precision=2)"
      ],
      "metadata": {
        "id": "SWu7R_4XtcZn"
      },
      "execution_count": null,
      "outputs": []
    },
    {
      "cell_type": "markdown",
      "source": [
        "#### (ii) Impact of Specific Marketing Strategies on Sales across Client Types"
      ],
      "metadata": {
        "id": "UNaf3MU1yuUP"
      }
    },
    {
      "cell_type": "code",
      "source": [
        "cm = sns.light_palette(\"green\", as_cmap=True)\n",
        "correlation_analysis=pd.DataFrame(data.groupby('Client Type')[['Amount Collected',\n",
        "       'Campaign (Email)', 'Campaign (Flyer)', 'Campaign (Phone)',\n",
        "       'Sales Contact 1', 'Sales Contact 2', 'Sales Contact 3',\n",
        "       'Sales Contact 4', 'Sales Contact 5']].corr()['Amount Collected']).reset_index()\n",
        "correlation_analysis=correlation_analysis.sort_values(['Client Type','Amount Collected'],ascending=False)\n",
        "correlation_analysis.columns=['Acc Type','Variable Impact on Sales','Impact']\n",
        "correlation_analysis=correlation_analysis[correlation_analysis['Variable Impact on Sales']!='Amount Collected'].reset_index(drop=True)\n",
        "correlation_analysis.style.background_gradient(cmap=cm).format(precision=2)"
      ],
      "metadata": {
        "id": "s8Paeuk5teBg"
      },
      "execution_count": null,
      "outputs": []
    },
    {
      "cell_type": "markdown",
      "source": [
        "#### 4.2.3 Causal Inference - Regression Analysis (Revenue Vs Strategies)"
      ],
      "metadata": {
        "id": "E2Wy5yNDy1Ak"
      }
    },
    {
      "cell_type": "code",
      "source": [
        "## column clean\n",
        "data.columns=[mystring.replace(\" \", \"_\") for mystring in data.columns]\n",
        "data.columns=[mystring.replace(\"(\", \"\") for mystring in data.columns]\n",
        "data.columns=[mystring.replace(\")\", \"\") for mystring in data.columns]"
      ],
      "metadata": {
        "id": "VArMbuCFjbm6"
      },
      "execution_count": null,
      "outputs": []
    },
    {
      "cell_type": "code",
      "source": [
        "\n",
        "results = smf.ols('Amount_Collected ~ Campaign_Email+Campaign_Flyer+Campaign_Phone+\\\n",
        "       Sales_Contact_1 + Sales_Contact_2 + Sales_Contact_3+Sales_Contact_4 + Sales_Contact_5',data=data).fit()\n",
        "print(results.summary())"
      ],
      "metadata": {
        "id": "e7hqscgKyvRX"
      },
      "execution_count": null,
      "outputs": []
    },
    {
      "cell_type": "markdown",
      "source": [
        "Observation:\n",
        "\n",
        "1. We see expected change in the Target (amount collected) with unit change in the variables.\n",
        "2. However, we need to understand wh of these variables are statistically significant (i.e P<0.05) , implies with 95% confindence we can say that a variable is significant and by analysing the coeff we say to what extent\n",
        "\n"
      ],
      "metadata": {
        "id": "TpqIDAFAkkoE"
      }
    },
    {
      "cell_type": "code",
      "source": [
        "df = pd.read_html(results.summary().tables[1].as_html(),header=0,index_col=0)[0]\n",
        "df=df.reset_index()\n",
        "df=df[df['P>|t|']<0.05][['index','coef','P>|t|']] ## Filter Dataframe for only significant predictors (p<0.05)\n",
        "df"
      ],
      "metadata": {
        "id": "eJD1vqrIy6MY"
      },
      "execution_count": null,
      "outputs": []
    },
    {
      "cell_type": "markdown",
      "source": [
        "#### Causal Inference - Regression Analysis (Revenue Vs Strategies across Client Types)"
      ],
      "metadata": {
        "id": "kDM6DFgFy85P"
      }
    },
    {
      "cell_type": "code",
      "source": [
        "consolidated_summary=pd.DataFrame()\n",
        "for acctype in list(set(list(data['Client_Type']))):\n",
        "    temp_data=data[data['Client_Type']==acctype].copy()\n",
        "    results = smf.ols('Amount_Collected ~ Campaign_Email+Campaign_Flyer+Campaign_Phone+\\\n",
        "       Sales_Contact_1 + Sales_Contact_2 + Sales_Contact_3+Sales_Contact_4 + Sales_Contact_5', data=temp_data).fit()\n",
        "    df = pd.read_html(results.summary().tables[1].as_html(),header=0,index_col=0)[0].reset_index()\n",
        "    df=df[df['P>|t|']<0.05][['index','coef']]\n",
        "    df.columns=['Variable','Coefficent (Impact)']\n",
        "    df['Account Type']=acctype\n",
        "    df=df.sort_values('Coefficent (Impact)',ascending=False)\n",
        "    df=df[df['Variable']!='Intercept']\n",
        "    ##print(acctype)\n",
        "    consolidated_summary=pd.concat([consolidated_summary, df], ignore_index=True)\n",
        "    print(df)"
      ],
      "metadata": {
        "id": "hmEyT1iNy7dj"
      },
      "execution_count": null,
      "outputs": []
    },
    {
      "cell_type": "code",
      "source": [
        "\n",
        "consolidated_summary=pd.DataFrame()\n",
        "for acctype in list(set(list(data['Client_Type']))):\n",
        "    print(acctype)\n",
        "    temp_data=data[data['Client_Type']==acctype].copy()\n",
        "    results = smf.ols('Amount_Collected ~ Campaign_Email+Campaign_Flyer+Campaign_Phone+\\\n",
        "       Sales_Contact_1 + Sales_Contact_2 + Sales_Contact_3+Sales_Contact_4 + Sales_Contact_5', data=temp_data).fit()\n",
        "    df = pd.read_html(results.summary().tables[1].as_html(),header=0,index_col=0)[0].reset_index()\n",
        "    df=df[df['P>|t|']<0.05][['index','coef']]\n",
        "    df.columns=['Variable','Coefficent (Impact)']\n",
        "    df['Account Type']=acctype\n",
        "    df=df.sort_values('Coefficent (Impact)',ascending=False)\n",
        "    df=df[df['Variable']!='Intercept']\n",
        "    consolidated_summary=pd.concat([consolidated_summary, df], ignore_index=True)\n",
        "    print(results.summary())\n",
        "    print(\"***************************************************************************************************************************************************************************\")\n",
        "    print(\"***********************************************************************************************************************************************************************************\")"
      ],
      "metadata": {
        "id": "KyI4xVRzy-ZK"
      },
      "execution_count": null,
      "outputs": []
    },
    {
      "cell_type": "markdown",
      "source": [
        "### 5. Recommendations and Strategies"
      ],
      "metadata": {
        "id": "MWtLGw6IzcjO"
      }
    },
    {
      "cell_type": "markdown",
      "source": [
        "*   The table below allows us to analyze the return on investment for each dollar spent, providing insights into the effectiveness of various campaigns and sales contacts across different account types.\n",
        "*  For the Medium Facility case:\n",
        "  1. Flyer Campaigns yield a strong return, generating an average of $4 for every dollar spent.\n",
        "  2. Sales Contact 2 is the most effective, followed by Sales Contact 1, with Sales Contact 3 showing less impact.\n",
        "  3. Other strategies are ineffective and can be eliminated to reduce costs."
      ],
      "metadata": {
        "id": "tl_-WV8ezarb"
      }
    },
    {
      "cell_type": "code",
      "source": [
        "consolidated_summary.columns"
      ],
      "metadata": {
        "id": "UNhzUtOtoy9p"
      },
      "execution_count": null,
      "outputs": []
    },
    {
      "cell_type": "code",
      "source": [
        "consolidated_summary=consolidated_summary.sort_values(by='Account Type', ascending=True)"
      ],
      "metadata": {
        "id": "qUG0egDMzb8d"
      },
      "execution_count": null,
      "outputs": []
    },
    {
      "cell_type": "code",
      "source": [
        "consolidated_summary.reset_index(inplace=True)\n",
        "consolidated_summary.drop('index',inplace=True,axis=1)"
      ],
      "metadata": {
        "id": "ibex-mtizhjD"
      },
      "execution_count": null,
      "outputs": []
    },
    {
      "cell_type": "code",
      "source": [
        "consolidated_summary.columns = ['Variable','Return on Investment','Account Type']\n",
        "consolidated_summary['Return on Investment']= consolidated_summary['Return on Investment'].apply(lambda x: round(x,1))\n",
        "consolidated_summary.style.background_gradient(cmap='RdYlGn')"
      ],
      "metadata": {
        "id": "-cRiukH8zjJy"
      },
      "execution_count": null,
      "outputs": []
    },
    {
      "cell_type": "code",
      "source": [
        "def format(x):\n",
        "        return \"${:.1f}\".format(x)\n",
        "consolidated_summary['Return on Investment']  = consolidated_summary['Return on Investment'].apply(format)"
      ],
      "metadata": {
        "id": "qtQ3KgohzlVh"
      },
      "execution_count": null,
      "outputs": []
    },
    {
      "cell_type": "code",
      "source": [
        "consolidated_summary.columns = ['Variable','Return on Investment','Account Type']\n",
        "consolidated_summary.style.background_gradient(cmap='RdYlGn')"
      ],
      "metadata": {
        "id": "7ZhdFnrizmNZ"
      },
      "execution_count": null,
      "outputs": []
    },
    {
      "cell_type": "markdown",
      "source": [
        "## 5. Recommendations & Strategies"
      ],
      "metadata": {
        "id": "ni9gqvKMqzxF"
      }
    },
    {
      "cell_type": "code",
      "source": [
        "# 1. Large Facility:\n",
        "#    - Top Contacts: Prioritize Sales Contact 1 ($11.7) and Sales Contact 4 ($10.6) for maximum ROI.\n",
        "#    - Flyers ($2.7) provide moderate returns; consider using them as a secondary strategy.\n",
        "#    - Phone Campaigns (-$3.5) should be discontinued due to negative ROI.\n",
        "\n",
        "# 2. Medium Facility:\n",
        "#    - Flyer Campaigns ($4.1) deliver strong returns and should be prioritized.\n",
        "#    - Sales Contact 2 ($3.6) is the most effective, followed by Sales Contact 1 ($3.1). Sales Contact 3 ($2.1) can be minimized.\n",
        "\n",
        "# 3. Private Facility:\n",
        "#    - Sales Contact 2 ($6.6) offers the highest return and should be the primary focus.\n",
        "\n",
        "# 4. Small Facility:\n",
        "#    - Sales Contact 2 ($0.8) is yielding minimal returns; consider testing alternatives.\n",
        "#    - Phone Campaign ($0.0) shows no significant impact and should be reconsidered.\n",
        "\n",
        "# ### Suggestions:\n",
        "# - Focus on High-ROI Strategies: Prioritize the best-performing contacts and campaigns for each account type.\n",
        "# - Eliminate Ineffective Campaigns: Discontinue low-impact strategies like Phone Campaigns in Large and Small Facilities.\n",
        "# - Allocate Resources Wisely: Invest more in Flyer Campaigns for Medium Facilities and Sales Contact 2 for Private Facilities.\n"
      ],
      "metadata": {
        "id": "lJQe6lWcr_i6"
      },
      "execution_count": null,
      "outputs": []
    }
  ]
}